{
 "cells": [
  {
   "cell_type": "code",
   "execution_count": null,
   "id": "e01302c5",
   "metadata": {},
   "outputs": [],
   "source": [
    "import pandas as pd\n",
    "import numpy as np\n",
    "import cv2\n",
    "import os\n",
    "import glob\n",
    "\n",
    "from scipy import sparse\n",
    "import networkx as nx"
   ]
  },
  {
   "cell_type": "code",
   "execution_count": null,
   "id": "8d013cba",
   "metadata": {},
   "outputs": [],
   "source": [
    "pd.set_option('display.max_colwidth', 400)"
   ]
  },
  {
   "cell_type": "code",
   "execution_count": null,
   "id": "a089ffe7",
   "metadata": {},
   "outputs": [],
   "source": [
    "n = 108\n",
    "path_to_img = '../cells'\n",
    "x = 32\n",
    "y = 32\n",
    "inf_val = 999999999999999"
   ]
  },
  {
   "cell_type": "code",
   "execution_count": null,
   "id": "fc47bc7c",
   "metadata": {},
   "outputs": [],
   "source": [
    "def _make_edges_3d(n_x, n_y, n_z=1):\n",
    "    vertices = np.arange(n_x * n_y * n_z).reshape((n_x, n_y, n_z))\n",
    "    edges_deep = np.vstack((vertices[:, :, :-1].ravel(),\n",
    "                            vertices[:, :, 1:].ravel()))\n",
    "    edges_right = np.vstack((vertices[:, :-1].ravel(),\n",
    "                             vertices[:, 1:].ravel()))\n",
    "    edges_down = np.vstack((vertices[:-1].ravel(), vertices[1:].ravel()))\n",
    "    edges = np.hstack((edges_deep, edges_right, edges_down))\n",
    "    return edges"
   ]
  },
  {
   "cell_type": "code",
   "execution_count": null,
   "id": "8644c080",
   "metadata": {},
   "outputs": [],
   "source": [
    "def _compute_gradient_3d(edges,img):\n",
    "    _, n_y, n_z = np.array(img).shape\n",
    "    img = np.array(img)\n",
    "    gradient = np.abs(\n",
    "        img[\n",
    "            edges[0] // (n_y * n_z),\n",
    "            (edges[0] % (n_y * n_z)) // n_z,\n",
    "            (edges[0] % (n_y * n_z)) % n_z,\n",
    "        ]\n",
    "        - img[\n",
    "            edges[1] // (n_y * n_z),\n",
    "            (edges[1] % (n_y * n_z)) // n_z,\n",
    "            (edges[1] % (n_y * n_z)) % n_z,\n",
    "        ]\n",
    "    )\n",
    "    return gradient"
   ]
  },
  {
   "cell_type": "code",
   "execution_count": null,
   "id": "bf927098",
   "metadata": {},
   "outputs": [],
   "source": [
    "def _to_graph(\n",
    "    n_x, n_y, n_z, mask=None, img=None, return_as=sparse.coo_matrix, dtype=None\n",
    "):\n",
    "    edges = _make_edges_3d(n_x, n_y, n_z)\n",
    "\n",
    "\n",
    "    if dtype is None:  \n",
    "        if img is None:\n",
    "            dtype = int\n",
    "        else:\n",
    "            dtype = img.dtype\n",
    "\n",
    "    if img is not None:\n",
    "        img = np.atleast_3d(img)\n",
    "        weights = _compute_gradient_3d(edges, img)\n",
    "        if mask is not None:\n",
    "            edges, weights = _mask_edges_weights(mask, edges, weights)\n",
    "            diag = img.squeeze()[mask]\n",
    "        else:\n",
    "            diag = img.ravel()\n",
    "        n_voxels = diag.size\n",
    "    else:\n",
    "        if mask is not None:\n",
    "            mask = mask.astype(dtype=bool, copy=False)\n",
    "            edges = _mask_edges_weights(mask, edges)\n",
    "            n_voxels = np.sum(mask)\n",
    "        else:\n",
    "            n_voxels = n_x * n_y * n_z\n",
    "        weights = np.ones(edges.shape[1], dtype=dtype)\n",
    "        diag = np.ones(n_voxels, dtype=dtype)\n",
    "\n",
    "    diag_idx = np.arange(n_voxels)\n",
    "    i_idx = np.hstack((edges[0], edges[1]))\n",
    "    j_idx = np.hstack((edges[1], edges[0]))\n",
    "    graph = sparse.coo_matrix(\n",
    "        (\n",
    "            np.hstack((weights, weights, diag)),\n",
    "            (np.hstack((i_idx, diag_idx)), np.hstack((j_idx, diag_idx))),\n",
    "        ),\n",
    "        (n_voxels, n_voxels),\n",
    "        dtype=dtype,\n",
    "    )\n",
    "    if return_as is np.ndarray:\n",
    "        return graph.toarray()\n",
    "    return return_as(graph)"
   ]
  },
  {
   "cell_type": "code",
   "execution_count": null,
   "id": "de8f18a5",
   "metadata": {},
   "outputs": [],
   "source": [
    "def img_to_graph(img, *, mask=None, return_as=sparse.coo_matrix, dtype=None):\n",
    "    img = np.atleast_3d(img)\n",
    "    n_x, n_y, n_z = img.shape\n",
    "    return _to_graph(n_x, n_y, n_z, mask, img, return_as, dtype)"
   ]
  },
  {
   "cell_type": "code",
   "execution_count": null,
   "id": "e0da643d",
   "metadata": {},
   "outputs": [],
   "source": [
    "def calc_weight_edges_vertices(val, inputPath, x, y):\n",
    "    res_1 = []\n",
    "    res_2 = []\n",
    "\n",
    "    for i in range(val):\n",
    "        basePath = os.path.sep.join([inputPath, \"{}_*\".format(i + 1)])\n",
    "        imagepaths = sorted(list(glob.glob(basePath)))\n",
    "        metric = []\n",
    "        pathname = []       \n",
    "      \n",
    "        output_1 = []\n",
    "        output_2 = []\n",
    "        \n",
    "        print(basePath)\n",
    "        print(imagepaths)\n",
    "\n",
    "        for i in imagepaths:\n",
    "            img = cv2.imread(i)\n",
    "            img = cv2.resize(img, (x, y))\n",
    "            graph = img_to_graph(img)\n",
    "            arr = graph.toarray()\n",
    "            G = nx.from_numpy_matrix(arr, parallel_edges=False, create_using=nx.Graph)\n",
    "            metric.append(G.size('weight')/G.number_of_nodes())   \n",
    "            pathname.append(i)\n",
    "\n",
    "        output_1 = metric\n",
    "        res_1.append(output_1)\n",
    "        res_ = [item for sublist in res_1 for item in sublist]\n",
    "        \n",
    "        \n",
    "        output_2 = pathname\n",
    "        res_2.append(output_2)\n",
    "        res__ = [item for sublist in res_2 for item in sublist]\n",
    "        \n",
    "        df = pd.DataFrame(zip(res_,res__), columns=['metric', 'path'])\n",
    "    \n",
    "        \n",
    "    return df"
   ]
  },
  {
   "cell_type": "code",
   "execution_count": null,
   "id": "e2f68166",
   "metadata": {},
   "outputs": [],
   "source": [
    "weight_edges_vertices = calc_weight_edges_vertices(n, path_to_img, x, y)"
   ]
  },
  {
   "cell_type": "code",
   "execution_count": null,
   "id": "422ef7db",
   "metadata": {},
   "outputs": [],
   "source": [
    "weight_edges_vertices.head()"
   ]
  },
  {
   "cell_type": "code",
   "execution_count": null,
   "id": "857cacb3",
   "metadata": {},
   "outputs": [],
   "source": [
    "def calc_weight_edges(val, inputPath, x, y):\n",
    "    res_1 = []\n",
    "    res_2 = []\n",
    "\n",
    "    for i in range(val):\n",
    "        basePath = os.path.sep.join([inputPath, \"{}_*\".format(i + 1)])\n",
    "        imagepaths = sorted(list(glob.glob(basePath)))\n",
    "        metric = []\n",
    "        pathname = []       \n",
    "      \n",
    "        output_1 = []\n",
    "        output_2 = []\n",
    "        \n",
    "        print(basePath)\n",
    "        print(imagepaths)\n",
    "\n",
    "        for i in imagepaths:\n",
    "            img = cv2.imread(i)\n",
    "            img = cv2.resize(img, (x, y))\n",
    "            graph = img_to_graph(img)\n",
    "            arr = graph.toarray()\n",
    "            G = nx.from_numpy_matrix(arr, parallel_edges=False, create_using=nx.Graph)\n",
    "            metric.append(G.size('weight')/G.number_of_edges())   \n",
    "            pathname.append(i)\n",
    "\n",
    "        output_1 = metric\n",
    "        res_1.append(output_1)\n",
    "        res_ = [item for sublist in res_1 for item in sublist]\n",
    "        \n",
    "        \n",
    "        output_2 = pathname\n",
    "        res_2.append(output_2)\n",
    "        res__ = [item for sublist in res_2 for item in sublist]\n",
    "        \n",
    "        df = pd.DataFrame(zip(res_,res__), columns=['metric', 'path'])\n",
    "    \n",
    "        \n",
    "    return df"
   ]
  },
  {
   "cell_type": "code",
   "execution_count": null,
   "id": "8b5ff04f",
   "metadata": {},
   "outputs": [],
   "source": [
    "weight_edges = calc_weight_edges(n, path_to_img, x, y)"
   ]
  },
  {
   "cell_type": "code",
   "execution_count": null,
   "id": "2d30f12d",
   "metadata": {},
   "outputs": [],
   "source": [
    "weight_edges.head()"
   ]
  },
  {
   "cell_type": "code",
   "execution_count": null,
   "id": "d6b085a3",
   "metadata": {},
   "outputs": [],
   "source": [
    "def calc_degree_connect(val, inputPath, x, y):\n",
    "    res_1 = []\n",
    "    res_2 = []\n",
    "\n",
    "    for i in range(val):\n",
    "        basePath = os.path.sep.join([inputPath, \"{}_*\".format(i + 1)])\n",
    "        imagepaths = sorted(list(glob.glob(basePath)))\n",
    "        metric = []\n",
    "        pathname = []       \n",
    "      \n",
    "        output_1 = []\n",
    "        output_2 = []\n",
    "        \n",
    "        print(basePath)\n",
    "        print(imagepaths)\n",
    "\n",
    "        for i in imagepaths:\n",
    "            img = cv2.imread(i)\n",
    "            img = cv2.resize(img, (x, y))\n",
    "            graph = img_to_graph(img)\n",
    "            arr = graph.toarray()\n",
    "            G = nx.from_numpy_matrix(arr, parallel_edges=False, create_using=nx.Graph)\n",
    "            metric.append(sum(nx.average_degree_connectivity(G, weight=\"weight\").values()) / len(nx.average_degree_connectivity(G)))   \n",
    "            pathname.append(i)\n",
    "\n",
    "        output_1 = metric\n",
    "        res_1.append(output_1)\n",
    "        res_ = [item for sublist in res_1 for item in sublist]\n",
    "        \n",
    "        \n",
    "        output_2 = pathname\n",
    "        res_2.append(output_2)\n",
    "        res__ = [item for sublist in res_2 for item in sublist]\n",
    "        \n",
    "        df = pd.DataFrame(zip(res_,res__), columns=['metric', 'path'])\n",
    "    \n",
    "        \n",
    "    return df"
   ]
  },
  {
   "cell_type": "code",
   "execution_count": null,
   "id": "0ebb80de",
   "metadata": {},
   "outputs": [],
   "source": [
    "average_degree_connect = calc_degree_connect(n, path_to_img, x, y)"
   ]
  },
  {
   "cell_type": "code",
   "execution_count": null,
   "id": "07c5b32b",
   "metadata": {},
   "outputs": [],
   "source": [
    "average_degree_connect.head()"
   ]
  },
  {
   "cell_type": "code",
   "execution_count": null,
   "id": "1f7ee273",
   "metadata": {},
   "outputs": [],
   "source": [
    "def calc_degree_assort(val, inputPath, x, y):\n",
    "    res_1 = []\n",
    "    res_2 = []\n",
    "\n",
    "    for i in range(val):\n",
    "        basePath = os.path.sep.join([inputPath, \"{}_*\".format(i + 1)])\n",
    "        imagepaths = sorted(list(glob.glob(basePath)))\n",
    "        metric = []\n",
    "        pathname = []       \n",
    "      \n",
    "        output_1 = []\n",
    "        output_2 = []\n",
    "        \n",
    "        print(basePath)\n",
    "        print(imagepaths)\n",
    "\n",
    "        for i in imagepaths:\n",
    "            img = cv2.imread(i)\n",
    "            img = cv2.resize(img, (x, y))\n",
    "            graph = img_to_graph(img)\n",
    "            arr = graph.toarray()\n",
    "            G = nx.from_numpy_matrix(arr, parallel_edges=False, create_using=nx.Graph)\n",
    "            metric.append(nx.degree_assortativity_coefficient(G, weight=\"weight\"))   \n",
    "            pathname.append(i)\n",
    "\n",
    "        output_1 = metric\n",
    "        res_1.append(output_1)\n",
    "        res_ = [item for sublist in res_1 for item in sublist]\n",
    "        \n",
    "        \n",
    "        output_2 = pathname\n",
    "        res_2.append(output_2)\n",
    "        res__ = [item for sublist in res_2 for item in sublist]\n",
    "        \n",
    "        df = pd.DataFrame(zip(res_,res__), columns=['metric', 'path'])\n",
    "    \n",
    "        \n",
    "    return df"
   ]
  },
  {
   "cell_type": "code",
   "execution_count": null,
   "id": "6c475523",
   "metadata": {},
   "outputs": [],
   "source": [
    "degree_assortativity = calc_degree_assort(n, path_to_img, x, y)"
   ]
  },
  {
   "cell_type": "code",
   "execution_count": null,
   "id": "9269cb74",
   "metadata": {},
   "outputs": [],
   "source": [
    "degree_assortativity.head()"
   ]
  },
  {
   "cell_type": "code",
   "execution_count": null,
   "id": "a3dcaf38",
   "metadata": {},
   "outputs": [],
   "source": [
    "def calc_local_efficiency(val, inputPath, x, y):\n",
    "    res_1 = []\n",
    "    res_2 = []\n",
    "\n",
    "    for i in range(val):\n",
    "        basePath = os.path.sep.join([inputPath, \"{}_*\".format(i + 1)])\n",
    "        imagepaths = sorted(list(glob.glob(basePath)))\n",
    "        metric = []\n",
    "        pathname = []       \n",
    "      \n",
    "        output_1 = []\n",
    "        output_2 = []\n",
    "        \n",
    "        print(basePath)\n",
    "        print(imagepaths)\n",
    "\n",
    "        for i in imagepaths:\n",
    "            img = cv2.imread(i)\n",
    "            img = cv2.resize(img, (x, y))\n",
    "            graph = img_to_graph(img)\n",
    "            arr = graph.toarray()\n",
    "            G = nx.from_numpy_matrix(arr, parallel_edges=False, create_using=nx.Graph)\n",
    "            metric.append(nx.local_efficiency(G))   \n",
    "            pathname.append(i)\n",
    "\n",
    "        output_1 = metric\n",
    "        res_1.append(output_1)\n",
    "        res_ = [item for sublist in res_1 for item in sublist]\n",
    "        2\n",
    "        \n",
    "        \n",
    "        \n",
    "        output_2 = pathname\n",
    "        res_2.append(output_2)\n",
    "        res__ = [item for sublist in res_2 for item in sublist]\n",
    "        \n",
    "        df = pd.DataFrame(zip(res_,res__), columns=['metric', 'path'])\n",
    "    \n",
    "        \n",
    "    return df"
   ]
  },
  {
   "cell_type": "code",
   "execution_count": null,
   "id": "4d3dc4c1",
   "metadata": {},
   "outputs": [],
   "source": [
    "local_efficiency = calc_local_efficiency(n, path_to_img, x, y)"
   ]
  },
  {
   "cell_type": "code",
   "execution_count": null,
   "id": "6a9e2314",
   "metadata": {},
   "outputs": [],
   "source": [
    "local_efficiency.head()"
   ]
  },
  {
   "cell_type": "code",
   "execution_count": null,
   "id": "5ad3355d",
   "metadata": {},
   "outputs": [],
   "source": [
    "def calc_global_efficiency(val, inputPath, x, y):\n",
    "    res_1 = []\n",
    "    res_2 = []\n",
    "\n",
    "    for i in range(val):\n",
    "        basePath = os.path.sep.join([inputPath, \"{}_*\".format(i + 1)])\n",
    "        imagepaths = sorted(list(glob.glob(basePath)))\n",
    "        metric = []\n",
    "        pathname = []       \n",
    "      \n",
    "        output_1 = []\n",
    "        output_2 = []\n",
    "        \n",
    "        print(basePath)\n",
    "        print(imagepaths)\n",
    "\n",
    "        for i in imagepaths:\n",
    "            img = cv2.imread(i)\n",
    "            img = cv2.resize(img, (x, y))\n",
    "            graph = img_to_graph(img)\n",
    "            arr = graph.toarray()\n",
    "            G = nx.from_numpy_matrix(arr, parallel_edges=False, create_using=nx.Graph)\n",
    "            metric.append(nx.global_efficiency(G))   \n",
    "            pathname.append(i)\n",
    "\n",
    "        output_1 = metric\n",
    "        res_1.append(output_1)\n",
    "        res_ = [item for sublist in res_1 for item in sublist]\n",
    "        \n",
    "        \n",
    "        output_2 = pathname\n",
    "        res_2.append(output_2)\n",
    "        res__ = [item for sublist in res_2 for item in sublist]\n",
    "        \n",
    "        df = pd.DataFrame(zip(res_,res__), columns=['metric', 'path'])\n",
    "    \n",
    "        \n",
    "    return df"
   ]
  },
  {
   "cell_type": "code",
   "execution_count": null,
   "id": "cd2f5c57",
   "metadata": {},
   "outputs": [],
   "source": [
    "global_efficiency = calc_global_efficiency(n, path_to_img, x, y)"
   ]
  },
  {
   "cell_type": "code",
   "execution_count": null,
   "id": "50f6941c",
   "metadata": {},
   "outputs": [],
   "source": [
    "global_efficiency.head()"
   ]
  },
  {
   "cell_type": "code",
   "execution_count": null,
   "id": "8ab44d5d",
   "metadata": {},
   "outputs": [],
   "source": [
    "def calc_estrada_index(val, inputPath, x, y):\n",
    "    res_1 = []\n",
    "    res_2 = []\n",
    "\n",
    "    for i in range(val):\n",
    "        basePath = os.path.sep.join([inputPath, \"{}_*\".format(i + 1)])\n",
    "        imagepaths = sorted(list(glob.glob(basePath)))\n",
    "        metric = []\n",
    "        pathname = []       \n",
    "      \n",
    "        output_1 = []\n",
    "        output_2 = []\n",
    "        \n",
    "        print(basePath)\n",
    "        print(imagepaths)\n",
    "\n",
    "        for i in imagepaths:\n",
    "            img = cv2.imread(i)\n",
    "            img = cv2.resize(img, (x, y))\n",
    "            graph = img_to_graph(img)\n",
    "            arr = graph.toarray()\n",
    "            G = nx.from_numpy_matrix(arr, parallel_edges=False, create_using=nx.Graph)\n",
    "            metric.append(nx.estrada_index(G))   \n",
    "            pathname.append(i)\n",
    "\n",
    "        output_1 = metric\n",
    "        res_1.append(output_1)\n",
    "        res_ = [item for sublist in res_1 for item in sublist]\n",
    "        \n",
    "        \n",
    "        output_2 = pathname\n",
    "        res_2.append(output_2)\n",
    "        res__ = [item for sublist in res_2 for item in sublist]\n",
    "        \n",
    "        df = pd.DataFrame(zip(res_,res__), columns=['metric', 'path'])\n",
    "    \n",
    "        \n",
    "    return df"
   ]
  },
  {
   "cell_type": "code",
   "execution_count": null,
   "id": "7693f055",
   "metadata": {},
   "outputs": [],
   "source": [
    "estrada_index = calc_estrada_index(n, path_to_img, x, y)"
   ]
  },
  {
   "cell_type": "code",
   "execution_count": null,
   "id": "993edfb2",
   "metadata": {},
   "outputs": [],
   "source": [
    "estrada_index.head()"
   ]
  },
  {
   "cell_type": "code",
   "execution_count": null,
   "id": "ac6edbe9",
   "metadata": {},
   "outputs": [],
   "source": [
    "def calc_wiener_index(val, inputPath, x, y):\n",
    "    res_1 = []\n",
    "    res_2 = []\n",
    "\n",
    "    for i in range(val):\n",
    "        basePath = os.path.sep.join([inputPath, \"{}_*\".format(i + 1)])\n",
    "        imagepaths = sorted(list(glob.glob(basePath)))\n",
    "        metric = []\n",
    "        pathname = []       \n",
    "      \n",
    "        output_1 = []\n",
    "        output_2 = []\n",
    "        \n",
    "        print(basePath)\n",
    "        print(imagepaths)\n",
    "\n",
    "        for i in imagepaths:\n",
    "            img = cv2.imread(i)\n",
    "            img = cv2.resize(img, (x, y))\n",
    "            graph = img_to_graph(img)\n",
    "            arr = graph.toarray()\n",
    "            G = nx.from_numpy_matrix(arr, parallel_edges=False, create_using=nx.Graph)\n",
    "            metric.append(nx.wiener_index(G))   \n",
    "            pathname.append(i)\n",
    "\n",
    "        output_1 = metric\n",
    "        res_1.append(output_1)\n",
    "        res_ = [item for sublist in res_1 for item in sublist]\n",
    "        \n",
    "        \n",
    "        output_2 = pathname\n",
    "        res_2.append(output_2)\n",
    "        res__ = [item for sublist in res_2 for item in sublist]\n",
    "        \n",
    "        df = pd.DataFrame(zip(res_,res__), columns=['metric', 'path'])\n",
    "    \n",
    "        \n",
    "    return df"
   ]
  },
  {
   "cell_type": "code",
   "execution_count": null,
   "id": "fa3c275b",
   "metadata": {},
   "outputs": [],
   "source": [
    "wiener_index = calc_wiener_index(n, path_to_img, x, y)"
   ]
  },
  {
   "cell_type": "code",
   "execution_count": null,
   "id": "d8949cda",
   "metadata": {},
   "outputs": [],
   "source": [
    "wiener_index.head()"
   ]
  },
  {
   "cell_type": "code",
   "execution_count": null,
   "id": "1edc4704",
   "metadata": {},
   "outputs": [],
   "source": [
    "def calc_pagerank(val, inputPath, x, y):\n",
    "    res_1 = []\n",
    "    res_2 = []\n",
    "\n",
    "    for i in range(val):\n",
    "        basePath = os.path.sep.join([inputPath, \"{}_*\".format(i + 1)])\n",
    "        imagepaths = sorted(list(glob.glob(basePath)))\n",
    "        metric = []\n",
    "        pathname = []       \n",
    "      \n",
    "        output_1 = []\n",
    "        output_2 = []\n",
    "        \n",
    "        print(basePath)\n",
    "        print(imagepaths)\n",
    "\n",
    "        for i in imagepaths:\n",
    "            img = cv2.imread(i)\n",
    "            img = cv2.resize(img, (x, y))\n",
    "            graph = img_to_graph(img)\n",
    "            arr = graph.toarray()\n",
    "            G = nx.from_numpy_matrix(arr, parallel_edges=False, create_using=nx.Graph)\n",
    "            metric.append(sum(nx.pagerank(G).values())/len(nx.pagerank(G)))   \n",
    "            pathname.append(i)\n",
    "\n",
    "        output_1 = metric\n",
    "        res_1.append(output_1)\n",
    "        res_ = [item for sublist in res_1 for item in sublist]\n",
    "        \n",
    "        \n",
    "        output_2 = pathname\n",
    "        res_2.append(output_2)\n",
    "        res__ = [item for sublist in res_2 for item in sublist]\n",
    "        \n",
    "        df = pd.DataFrame(zip(res_,res__), columns=['metric', 'path'])\n",
    "    \n",
    "        \n",
    "    return df"
   ]
  },
  {
   "cell_type": "code",
   "execution_count": null,
   "id": "78b87e61",
   "metadata": {},
   "outputs": [],
   "source": [
    "pagerank = calc_pagerank(n, path_to_img, x, y)"
   ]
  },
  {
   "cell_type": "code",
   "execution_count": null,
   "id": "a0e8d093",
   "metadata": {},
   "outputs": [],
   "source": [
    "pagerank.head()"
   ]
  },
  {
   "cell_type": "code",
   "execution_count": null,
   "id": "a441cb8b",
   "metadata": {},
   "outputs": [],
   "source": [
    "def calc_degree_cent(val, inputPath, x, y):\n",
    "    res_1 = []\n",
    "    res_2 = []\n",
    "\n",
    "    for i in range(val):\n",
    "        basePath = os.path.sep.join([inputPath, \"{}_*\".format(i + 1)])\n",
    "        imagepaths = sorted(list(glob.glob(basePath)))\n",
    "        metric = []\n",
    "        pathname = []       \n",
    "      \n",
    "        output_1 = []\n",
    "        output_2 = []\n",
    "        \n",
    "        print(basePath)\n",
    "        print(imagepaths)\n",
    "\n",
    "        for i in imagepaths:\n",
    "            img = cv2.imread(i)\n",
    "            img = cv2.resize(img, (x, y))\n",
    "            graph = img_to_graph(img)\n",
    "            arr = graph.toarray()\n",
    "            G = nx.from_numpy_matrix(arr, parallel_edges=False, create_using=nx.Graph)\n",
    "            metric.append(sum(nx.degree_centrality(G).values()) / len(nx.degree_centrality(G))) \n",
    "            pathname.append(i)\n",
    "\n",
    "        output_1 = metric\n",
    "        res_1.append(output_1)\n",
    "        res_ = [item for sublist in res_1 for item in sublist]\n",
    "        \n",
    "        \n",
    "        output_2 = pathname\n",
    "        res_2.append(output_2)\n",
    "        res__ = [item for sublist in res_2 for item in sublist]\n",
    "        \n",
    "        df = pd.DataFrame(zip(res_,res__), columns=['metric', 'path'])\n",
    "    \n",
    "        \n",
    "    return df"
   ]
  },
  {
   "cell_type": "code",
   "execution_count": null,
   "id": "deaf0c3c",
   "metadata": {},
   "outputs": [],
   "source": [
    "degree_centrality = calc_degree_cent(n, path_to_img, x, y)"
   ]
  },
  {
   "cell_type": "code",
   "execution_count": null,
   "id": "87f572f7",
   "metadata": {},
   "outputs": [],
   "source": [
    "degree_centrality.head()"
   ]
  },
  {
   "cell_type": "code",
   "execution_count": null,
   "id": "13262eec",
   "metadata": {},
   "outputs": [],
   "source": [
    "def calc_avg_neigh_degree(val, inputPath, x, y):\n",
    "    res_1 = []\n",
    "    res_2 = []\n",
    "\n",
    "    for i in range(val):\n",
    "        basePath = os.path.sep.join([inputPath, \"{}_*\".format(i + 1)])\n",
    "        imagepaths = sorted(list(glob.glob(basePath)))\n",
    "        metric = []\n",
    "        pathname = []       \n",
    "      \n",
    "        output_1 = []\n",
    "        output_2 = []\n",
    "        \n",
    "        print(basePath)\n",
    "        print(imagepaths)\n",
    "\n",
    "        for i in imagepaths:\n",
    "            img = cv2.imread(i)\n",
    "            img = cv2.resize(img, (x, y))\n",
    "            graph = img_to_graph(img)\n",
    "            arr = graph.toarray()\n",
    "            G = nx.from_numpy_matrix(arr, parallel_edges=False, create_using=nx.Graph)\n",
    "            metric.append(sum(nx.average_neighbor_degree(G).values())/len(nx.average_neighbor_degree(G)))  \n",
    "            pathname.append(i)\n",
    "\n",
    "        output_1 = metric\n",
    "        res_1.append(output_1)\n",
    "        res_ = [item for sublist in res_1 for item in sublist]\n",
    "        \n",
    "        \n",
    "        output_2 = pathname\n",
    "        res_2.append(output_2)\n",
    "        res__ = [item for sublist in res_2 for item in sublist]\n",
    "        \n",
    "        df = pd.DataFrame(zip(res_,res__), columns=['metric', 'path'])\n",
    "    \n",
    "        \n",
    "    return df"
   ]
  },
  {
   "cell_type": "code",
   "execution_count": null,
   "id": "b2bb05c7",
   "metadata": {},
   "outputs": [],
   "source": [
    "average_neighbor_degree = calc_avg_neigh_degree(n, path_to_img, x,y)"
   ]
  },
  {
   "cell_type": "code",
   "execution_count": null,
   "id": "de433ec0",
   "metadata": {},
   "outputs": [],
   "source": [
    "average_neighbor_degree.head()"
   ]
  },
  {
   "cell_type": "code",
   "execution_count": null,
   "id": "17eaf67b",
   "metadata": {},
   "outputs": [],
   "source": [
    "df_invariants = pd.DataFrame(weight_edges_vertices)"
   ]
  },
  {
   "cell_type": "code",
   "execution_count": null,
   "id": "4d75730b",
   "metadata": {},
   "outputs": [],
   "source": [
    "df_invariants = df_invariants.rename(columns={'metric':'weight_edges_vertices'})"
   ]
  },
  {
   "cell_type": "code",
   "execution_count": null,
   "id": "ef1ece33",
   "metadata": {},
   "outputs": [],
   "source": [
    "df_invariants['weight_edges'] = weight_edges.metric\n",
    "df_invariants['average_degree_connectivity'] = average_degree_connect.metric\n",
    "df_invariants['degree_assortativity'] = degree_assortativity.metric\n",
    "df_invariants['local_efficiency'] = local_efficiency.metric\n",
    "df_invariants['global_efficiency'] = global_efficiency.metric\n",
    "df_invariants['wiener_index'] = wiener_index.metric\n",
    "df_invariants['estrada_index'] = estrada_index.metric\n",
    "df_invariants['pagerank'] = pagerank.metric\n",
    "df_invariants['degree_centrality'] = degree_centrality.metric\n",
    "df_invariants['average_neighbor_degree'] = average_neighbor_degree.metric"
   ]
  },
  {
   "cell_type": "code",
   "execution_count": null,
   "id": "0b5e3e0e",
   "metadata": {},
   "outputs": [],
   "source": [
    "df_invariants.head()"
   ]
  },
  {
   "cell_type": "code",
   "execution_count": null,
   "id": "cae2e159",
   "metadata": {},
   "outputs": [],
   "source": [
    "df_invariants = df_invariants.replace(np.inf, np.nan)"
   ]
  },
  {
   "cell_type": "code",
   "execution_count": null,
   "id": "06491979",
   "metadata": {},
   "outputs": [],
   "source": [
    "df_invariants = df_invariants.fillna(inf_val)"
   ]
  },
  {
   "cell_type": "code",
   "execution_count": null,
   "id": "b2eb6f2a",
   "metadata": {},
   "outputs": [],
   "source": [
    "df_invariants['path_'] = df_invariants.path"
   ]
  },
  {
   "cell_type": "code",
   "execution_count": null,
   "id": "8a19325a",
   "metadata": {},
   "outputs": [],
   "source": [
    "df_invariants[['path', 'label', 'pref', 'img_pref']] = df_invariants['path'].str.split('_',expand=True)"
   ]
  },
  {
   "cell_type": "code",
   "execution_count": null,
   "id": "c4c0af07",
   "metadata": {},
   "outputs": [],
   "source": [
    "to_drop = ['path','pref', 'img_pref']\n",
    "\n",
    "df_invariants = df_invariants.drop(to_drop, axis=1)"
   ]
  },
  {
   "cell_type": "code",
   "execution_count": null,
   "id": "309d172e",
   "metadata": {},
   "outputs": [],
   "source": [
    "df_invariants.to_excel('invariants_plusminus1.xlsx', index=False)"
   ]
  }
 ],
 "metadata": {
  "kernelspec": {
   "display_name": "conda_tensorflow2_p310",
   "language": "python",
   "name": "conda_tensorflow2_p310"
  },
  "language_info": {
   "codemirror_mode": {
    "name": "ipython",
    "version": 3
   },
   "file_extension": ".py",
   "mimetype": "text/x-python",
   "name": "python",
   "nbconvert_exporter": "python",
   "pygments_lexer": "ipython3",
   "version": "3.10.13"
  }
 },
 "nbformat": 4,
 "nbformat_minor": 5
}
